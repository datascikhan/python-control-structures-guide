{
 "cells": [
  {
   "cell_type": "markdown",
   "id": "e08a2d5f-7dc4-4e55-aa6d-92ab915dcb6e",
   "metadata": {},
   "source": [
    "# Python Control Structures\n",
    "\n",
    "- Python me **control structures** wo constructs hain jo program ke **flow ko control** karte hain, yani ye decide karte hain ke kaunsa code kab aur kitni dafa execute hoga.\n",
    "\n",
    "**Main Categories (Types):**  \n",
    "\n",
    "1. **Conditional Statements** – Sharti statements jo decision making ke liye use hoti hain (`if`, `elif`, `else`)  \n",
    "2. **Loops (Iteration)** – Code ko bar-bar repeat karne ke liye (`for`, `while`)  \n",
    "3. **Control Flow Statements (Loop Control)** – Loop ke behavior ko modify karne ke liye (`break`, `continue`, `pass`)  \n",
    "\n",
    "\n",
    "\n"
   ]
  },
  {
   "cell_type": "markdown",
   "id": "87ae2cad-70f9-405d-aa0b-a2e6125518ec",
   "metadata": {},
   "source": [
    "# 1️⃣ Conditional Statements\n",
    "\n",
    "- Conditional statements se program ye decide karta hai ke kaunsa code **execute hoga** aur kaunsa nahi, based on certain conditions.  \n",
    "Ye **decision making** ke liye use hote hain.\n",
    "\n",
    "---"
   ]
  },
  {
   "cell_type": "markdown",
   "id": "37e501c9-2292-4cbe-8f98-6b1409546b40",
   "metadata": {},
   "source": [
    "## Types of Conditional Statements\n",
    "\n",
    "### 1. `if` statement\n",
    "- Sirf tab execute hota hai jab condition True ho.\n",
    "- Agar condition False ho to code skip ho jata hai.\n"
   ]
  },
  {
   "cell_type": "code",
   "execution_count": 4,
   "id": "df3a4f0f-9e68-493a-858a-4d69c93f36a8",
   "metadata": {},
   "outputs": [
    {
     "name": "stdout",
     "output_type": "stream",
     "text": [
      "x is greater than 5\n"
     ]
    }
   ],
   "source": [
    "\n",
    "# Example 1\n",
    "x = 10\n",
    "if x > 5:\n",
    "    print(\"x is greater than 5\")\n",
    "\n",
    "\n",
    "\n",
    "\n",
    "\n",
    "\n"
   ]
  },
  {
   "cell_type": "code",
   "execution_count": 5,
   "id": "384618bd-4420-419d-8a94-e0a65e8d497e",
   "metadata": {},
   "outputs": [
    {
     "name": "stdout",
     "output_type": "stream",
     "text": [
      "y is negative\n"
     ]
    }
   ],
   "source": [
    "# Example 2\n",
    "y = -3\n",
    "if y < 0:\n",
    "    print(\"y is negative\")"
   ]
  },
  {
   "cell_type": "code",
   "execution_count": 6,
   "id": "111b6c71-6fd9-4640-adf9-a3e993ee65fc",
   "metadata": {},
   "outputs": [
    {
     "name": "stdout",
     "output_type": "stream",
     "text": [
      "num is divisible by 3\n"
     ]
    }
   ],
   "source": [
    "\n",
    "# Example 3\n",
    "num = 15\n",
    "if num % 3 == 0:\n",
    "    print(\"num is divisible by 3\")"
   ]
  },
  {
   "cell_type": "code",
   "execution_count": 7,
   "id": "4bc86bc7-c2bf-442b-9691-4ae796028c2c",
   "metadata": {},
   "outputs": [
    {
     "name": "stdout",
     "output_type": "stream",
     "text": [
      "It's a hot day\n"
     ]
    }
   ],
   "source": [
    "# Example 4\n",
    "temperature = 28\n",
    "if temperature > 25:\n",
    "    print(\"It's a hot day\")\n"
   ]
  },
  {
   "cell_type": "markdown",
   "id": "af4de5ae-d10f-4af5-89ea-b276a445a453",
   "metadata": {},
   "source": [
    "\n",
    "## 2️⃣ if-else Statement\n",
    " \n",
    "`if-else` statement me program pehle `if` block ki condition check karta hai.  \n",
    "- Agar condition **True** ho to `if` block execute hota hai.  \n",
    "- Agar condition **False** ho to `else` block execute hota hai.  \n",
    "\n",
    "Ye statement **decision making** ke liye use hoti hai jab do possible paths hoon.\n",
    "\n",
    "---\n"
   ]
  },
  {
   "cell_type": "code",
   "execution_count": 10,
   "id": "26a8d008-6cb2-410f-bbad-3d836a807bae",
   "metadata": {},
   "outputs": [
    {
     "name": "stdout",
     "output_type": "stream",
     "text": [
      "x is 10 or less\n"
     ]
    }
   ],
   "source": [
    "## Examples\n",
    "\n",
    "\n",
    "# Example 1\n",
    "x = 7\n",
    "if x > 10:\n",
    "    print(\"x is greater than 10\")\n",
    "else:\n",
    "    print(\"x is 10 or less\")\n",
    "\n"
   ]
  },
  {
   "cell_type": "code",
   "execution_count": 11,
   "id": "d8b5ffdc-63dd-4491-a81e-2a159eff957b",
   "metadata": {},
   "outputs": [
    {
     "name": "stdout",
     "output_type": "stream",
     "text": [
      "Number is even\n"
     ]
    }
   ],
   "source": [
    "# Example 2\n",
    "num = 4\n",
    "if num % 2 == 0:\n",
    "    print(\"Number is even\")\n",
    "else:\n",
    "    print(\"Number is odd\")\n",
    "\n"
   ]
  },
  {
   "cell_type": "code",
   "execution_count": 12,
   "id": "a5ee8172-a438-44ab-88f3-cb60f9965074",
   "metadata": {},
   "outputs": [
    {
     "name": "stdout",
     "output_type": "stream",
     "text": [
      "You passed the exam\n"
     ]
    }
   ],
   "source": [
    "# Example 3\n",
    "marks = 65\n",
    "if marks >= 50:\n",
    "    print(\"You passed the exam\")\n",
    "else:\n",
    "    print(\"You failed the exam\")\n",
    "\n"
   ]
  },
  {
   "cell_type": "code",
   "execution_count": 13,
   "id": "9e15b3ba-8820-4243-914c-b919554517d0",
   "metadata": {},
   "outputs": [
    {
     "name": "stdout",
     "output_type": "stream",
     "text": [
      "It's not hot outside\n"
     ]
    }
   ],
   "source": [
    "# Example 4\n",
    "temperature = 15\n",
    "if temperature > 30:\n",
    "    print(\"It's hot outside\")\n",
    "else:\n",
    "    print(\"It's not hot outside\")"
   ]
  },
  {
   "cell_type": "markdown",
   "id": "6d6b658c-fd8b-4682-883f-dc38ceccae70",
   "metadata": {},
   "source": [
    "\n",
    "# 3️⃣ if-elif-else Statement\n",
    "\n",
    " \n",
    "`if-elif-else` statement ka use **multiple conditions** check karne ke liye hota hai.  \n",
    "- Program pehli **True** condition ka block execute karta hai aur baaki blocks skip ho jate hain.  \n",
    "- Agar koi bhi condition True nahi hoti, to `else` block execute hota hai.\n",
    "\n",
    "---"
   ]
  },
  {
   "cell_type": "code",
   "execution_count": 15,
   "id": "ae471327-5a05-4fb0-bc76-31ff3ff08655",
   "metadata": {},
   "outputs": [
    {
     "name": "stdout",
     "output_type": "stream",
     "text": [
      "x is greater than 10 but less than or equal to 20\n"
     ]
    }
   ],
   "source": [
    "\n",
    "# Example 1\n",
    "x = 12\n",
    "if x > 20:\n",
    "    print(\"x is greater than 20\")\n",
    "elif x > 10:\n",
    "    print(\"x is greater than 10 but less than or equal to 20\")\n",
    "else:\n",
    "    print(\"x is 10 or less\")"
   ]
  },
  {
   "cell_type": "code",
   "execution_count": 16,
   "id": "4626ac72-3c3c-49ee-9060-81519d17d743",
   "metadata": {},
   "outputs": [
    {
     "name": "stdout",
     "output_type": "stream",
     "text": [
      "Grade: A\n"
     ]
    }
   ],
   "source": [
    "# Example 2\n",
    "marks = 85\n",
    "if marks >= 90:\n",
    "    print(\"Grade: A+\")\n",
    "elif marks >= 75:\n",
    "    print(\"Grade: A\")\n",
    "elif marks >= 60:\n",
    "    print(\"Grade: B\")\n",
    "else:\n",
    "    print(\"Grade: C or below\")"
   ]
  },
  {
   "cell_type": "code",
   "execution_count": 17,
   "id": "63172c6c-f548-44de-9e77-7a86047e6893",
   "metadata": {},
   "outputs": [
    {
     "name": "stdout",
     "output_type": "stream",
     "text": [
      "Pleasant weather\n"
     ]
    }
   ],
   "source": [
    "# Example 3\n",
    "temperature = 25\n",
    "if temperature > 35:\n",
    "    print(\"It's very hot\")\n",
    "elif temperature > 25:\n",
    "    print(\"It's warm\")\n",
    "elif temperature > 15:\n",
    "    print(\"Pleasant weather\")\n",
    "else:\n",
    "    print(\"It's cold\")"
   ]
  },
  {
   "cell_type": "code",
   "execution_count": 18,
   "id": "ca0cf6bd-fa2b-43c5-952b-50ef63e6acc4",
   "metadata": {},
   "outputs": [
    {
     "name": "stdout",
     "output_type": "stream",
     "text": [
      "Negative number\n"
     ]
    }
   ],
   "source": [
    "# Example 4\n",
    "num = -5\n",
    "if num > 0:\n",
    "    print(\"Positive number\")\n",
    "elif num < 0:\n",
    "    print(\"Negative number\")\n",
    "else:\n",
    "    print(\"Number is zero\")\n",
    "\n",
    "# Agar koi bhi condition True nahi hui, else execute hota hai.\n",
    "\n"
   ]
  },
  {
   "cell_type": "code",
   "execution_count": 19,
   "id": "a5677bff-55a7-4662-829b-8b3a5231c24d",
   "metadata": {},
   "outputs": [
    {
     "name": "stdout",
     "output_type": "stream",
     "text": [
      "x is greater than 5 but less than or equal to 10\n"
     ]
    }
   ],
   "source": [
    "\n",
    "x = 7\n",
    "if x > 10:\n",
    "    print(\"x is greater than 10\")\n",
    "elif x > 5:\n",
    "    print(\"x is greater than 5 but less than or equal to 10\")\n",
    "else:\n",
    "    print(\"x is 5 or less\")\n"
   ]
  },
  {
   "cell_type": "code",
   "execution_count": 20,
   "id": "6cc3754d-e604-4f08-9f28-b0061be28d71",
   "metadata": {},
   "outputs": [
    {
     "name": "stdout",
     "output_type": "stream",
     "text": [
      "y is zero\n"
     ]
    }
   ],
   "source": [
    "y = 0\n",
    "if y > 0:\n",
    "    print(\"y is positive\")\n",
    "elif y < 0:\n",
    "    print(\"y is negative\")\n",
    "else:\n",
    "    print(\"y is zero\")\n"
   ]
  },
  {
   "cell_type": "code",
   "execution_count": 21,
   "id": "cf6d3dae-1686-47e2-9403-5baa0df7d078",
   "metadata": {},
   "outputs": [
    {
     "name": "stdout",
     "output_type": "stream",
     "text": [
      "Grade: A\n"
     ]
    }
   ],
   "source": [
    "# Example 1\n",
    "marks = 85\n",
    "if marks >= 90:\n",
    "    print(\"Grade: A+\")\n",
    "elif marks >= 75:\n",
    "    print(\"Grade: A\")\n",
    "elif marks >= 60:\n",
    "    print(\"Grade: B\")\n",
    "else:\n",
    "    print(\"Grade: C or below\")\n"
   ]
  },
  {
   "cell_type": "code",
   "execution_count": 22,
   "id": "efc20574-686e-4799-a411-b31aabdcf6be",
   "metadata": {},
   "outputs": [
    {
     "name": "stdout",
     "output_type": "stream",
     "text": [
      "Odd\n"
     ]
    }
   ],
   "source": [
    "# Example 2\n",
    "num = 15\n",
    "if num % 2 == 0:\n",
    "    print(\"Even\")\n",
    "else:\n",
    "    print(\"Odd\")"
   ]
  },
  {
   "cell_type": "code",
   "execution_count": 23,
   "id": "c9cfecf9-8b83-43ba-8ff5-0ae3af9daf1a",
   "metadata": {},
   "outputs": [
    {
     "name": "stdout",
     "output_type": "stream",
     "text": [
      "It is hot\n"
     ]
    }
   ],
   "source": [
    "# Example 3\n",
    "temp = 35\n",
    "if temp > 40:\n",
    "    print(\"It is very hot\")\n",
    "elif temp > 30:\n",
    "    print(\"It is hot\")\n",
    "elif temp > 20:\n",
    "    print(\"Pleasant weather\")\n",
    "else:\n",
    "    print(\"It is cold\")"
   ]
  },
  {
   "cell_type": "markdown",
   "id": "e054e65e-cf4c-4e80-981a-db63bfe98008",
   "metadata": {},
   "source": [
    "# 2️⃣ Loops (Iteration)\n",
    "\n",
    "\n",
    "Loops se hum program me **repeated tasks** perform kar sakte hain bina code ko bar-bar likhe.  \n",
    "Python me mainly do types ke loops hote hain: `for` loop aur `while` loop.\n",
    "\n",
    "---"
   ]
  },
  {
   "cell_type": "markdown",
   "id": "297d0cd7-315f-442c-9892-272daaa08ed3",
   "metadata": {},
   "source": [
    "## a) for Loop\n",
    "  \n",
    "`for` loop kisi **sequence** (list, tuple, string, range) ke elements par iterate karta hai.  \n",
    "Har iteration me sequence ka next element variable me store hota hai aur loop body execute hoti hai.\n"
   ]
  },
  {
   "cell_type": "code",
   "execution_count": 26,
   "id": "9d8a081f-49bd-4aba-b878-bd47985a08e7",
   "metadata": {},
   "outputs": [
    {
     "name": "stdout",
     "output_type": "stream",
     "text": [
      "apple\n",
      "banana\n",
      "cherry\n"
     ]
    }
   ],
   "source": [
    "# Example 1\n",
    "fruits = [\"apple\", \"banana\", \"cherry\"]\n",
    "for fruit in fruits:\n",
    "    print(fruit)"
   ]
  },
  {
   "cell_type": "code",
   "execution_count": 27,
   "id": "1b36d5f1-5fb9-4122-85dd-66ffff43dbca",
   "metadata": {},
   "outputs": [
    {
     "name": "stdout",
     "output_type": "stream",
     "text": [
      "0\n",
      "1\n",
      "2\n",
      "3\n",
      "4\n"
     ]
    }
   ],
   "source": [
    "# Example 2\n",
    "for i in range(5):\n",
    "    print(i)"
   ]
  },
  {
   "cell_type": "code",
   "execution_count": 28,
   "id": "0f8b2c54-a932-45db-99e0-2ee3499c680c",
   "metadata": {},
   "outputs": [
    {
     "name": "stdout",
     "output_type": "stream",
     "text": [
      "Number: 1\n",
      "Number: 2\n",
      "Number: 3\n",
      "Number: 4\n",
      "Number: 5\n"
     ]
    }
   ],
   "source": [
    "# Example 3\n",
    "for i in range(1, 6):\n",
    "    print(\"Number:\", i)"
   ]
  },
  {
   "cell_type": "code",
   "execution_count": 29,
   "id": "d316b3c0-656a-4134-a38a-c83f6aa53434",
   "metadata": {},
   "outputs": [
    {
     "name": "stdout",
     "output_type": "stream",
     "text": [
      "P\n",
      "y\n",
      "t\n",
      "h\n",
      "o\n",
      "n\n"
     ]
    }
   ],
   "source": [
    "# Example 4\n",
    "for char in \"Python\":\n",
    "    print(char)"
   ]
  },
  {
   "cell_type": "code",
   "execution_count": 30,
   "id": "5bc2acd7-fb63-4ff2-87de-abf47f081631",
   "metadata": {},
   "outputs": [
    {
     "name": "stdout",
     "output_type": "stream",
     "text": [
      "4\n",
      "8\n",
      "12\n",
      "16\n"
     ]
    }
   ],
   "source": [
    "# Example 5\n",
    "numbers = [2, 4, 6, 8]\n",
    "for num in numbers:\n",
    "    print(num * 2)"
   ]
  },
  {
   "cell_type": "markdown",
   "id": "8cf30a70-5ccb-4547-9bbb-2b681bdcd667",
   "metadata": {},
   "source": [
    "### b) while Loop\n",
    " \n",
    "`while` loop tab tak execute hota hai jab tak **condition True** ho.  \n",
    "Condition False hone par loop automatically stop ho jata hai.\n"
   ]
  },
  {
   "cell_type": "code",
   "execution_count": 32,
   "id": "1a691237-87a6-42cd-86a7-2a68c971f416",
   "metadata": {},
   "outputs": [
    {
     "name": "stdout",
     "output_type": "stream",
     "text": [
      "0\n",
      "1\n",
      "2\n",
      "3\n",
      "4\n"
     ]
    }
   ],
   "source": [
    "# Example 1\n",
    "count = 0\n",
    "while count < 5:\n",
    "    print(count)\n",
    "    count += 1"
   ]
  },
  {
   "cell_type": "code",
   "execution_count": 33,
   "id": "43cc7ae4-54ac-49d2-9098-6bfac3e97821",
   "metadata": {},
   "outputs": [
    {
     "name": "stdout",
     "output_type": "stream",
     "text": [
      "10\n",
      "8\n",
      "6\n",
      "4\n",
      "2\n"
     ]
    }
   ],
   "source": [
    "# Example 2\n",
    "num = 10\n",
    "while num > 0:\n",
    "    print(num)\n",
    "    num -= 2"
   ]
  },
  {
   "cell_type": "code",
   "execution_count": 34,
   "id": "2e8f2f7f-195a-48f2-a7c0-29a1cda8d187",
   "metadata": {},
   "outputs": [
    {
     "name": "stdout",
     "output_type": "stream",
     "text": [
      "Iteration 1\n",
      "Iteration 2\n",
      "Iteration 3\n"
     ]
    }
   ],
   "source": [
    "# Example 3\n",
    "i = 1\n",
    "while i <= 3:\n",
    "    print(\"Iteration\", i)\n",
    "    i += 1"
   ]
  },
  {
   "cell_type": "code",
   "execution_count": 35,
   "id": "02817159-bdc7-4e22-90d9-d8894fc2d725",
   "metadata": {},
   "outputs": [
    {
     "name": "stdout",
     "output_type": "stream",
     "text": [
      "x = 5\n",
      "x = 4\n",
      "x = 3\n",
      "x = 2\n",
      "x = 1\n"
     ]
    }
   ],
   "source": [
    "# Example 4\n",
    "x = 5\n",
    "while x > 0:\n",
    "    print(\"x =\", x)\n",
    "    x -= 1"
   ]
  },
  {
   "cell_type": "code",
   "execution_count": 36,
   "id": "842a23e8-e264-44ea-b18d-48580268d60d",
   "metadata": {},
   "outputs": [
    {
     "name": "stdout",
     "output_type": "stream",
     "text": [
      "Total: 15\n"
     ]
    }
   ],
   "source": [
    "# Example 5\n",
    "total = 0\n",
    "n = 1\n",
    "while n <= 5:\n",
    "    total += n\n",
    "    n += 1\n",
    "print(\"Total:\", total)"
   ]
  },
  {
   "cell_type": "markdown",
   "id": "89e8b450-cfdc-45c4-9757-4d5a24fbd9a3",
   "metadata": {},
   "source": [
    "\n",
    "### 3️⃣ Loop Control Statements\n",
    "\n",
    "Python me loops ke behavior ko control karne ke liye **3 statements** use hote hain: `break`, `continue`, `pass`.\n",
    "\n",
    "\n",
    "\n"
   ]
  },
  {
   "cell_type": "markdown",
   "id": "18e73664-decf-4b97-b24d-9fd1192c37fb",
   "metadata": {},
   "source": [
    "\n",
    "#### a) break\n",
    "`break` loop ko turant terminate kar deta hai, chahe condition abhi True ho."
   ]
  },
  {
   "cell_type": "code",
   "execution_count": 39,
   "id": "ab175a0d-10bd-4248-a002-e3c093038a4c",
   "metadata": {},
   "outputs": [
    {
     "name": "stdout",
     "output_type": "stream",
     "text": [
      "0\n",
      "1\n",
      "2\n"
     ]
    }
   ],
   "source": [
    "# Example 1\n",
    "for i in range(5):\n",
    "    if i == 3:\n",
    "        break\n",
    "    print(i)\n"
   ]
  },
  {
   "cell_type": "code",
   "execution_count": 40,
   "id": "03f8e110-2cfb-42a2-85a0-45374b210eb2",
   "metadata": {},
   "outputs": [
    {
     "name": "stdout",
     "output_type": "stream",
     "text": [
      "0\n",
      "1\n",
      "2\n",
      "3\n"
     ]
    }
   ],
   "source": [
    "# Example 2\n",
    "i = 0\n",
    "while i < 10:\n",
    "    if i == 4:\n",
    "        break\n",
    "    print(i)\n",
    "    i += 1\n"
   ]
  },
  {
   "cell_type": "code",
   "execution_count": 41,
   "id": "510c1644-c530-4000-b517-49bf6f968c52",
   "metadata": {},
   "outputs": [
    {
     "name": "stdout",
     "output_type": "stream",
     "text": [
      "P\n",
      "y\n",
      "t\n"
     ]
    }
   ],
   "source": [
    "# Example 3\n",
    "for char in \"Python\":\n",
    "    if char == \"h\":\n",
    "        break\n",
    "    print(char)"
   ]
  },
  {
   "cell_type": "code",
   "execution_count": 42,
   "id": "3bfcad00-f397-4ee6-8a55-fa74551c43be",
   "metadata": {},
   "outputs": [
    {
     "name": "stdout",
     "output_type": "stream",
     "text": [
      "1\n",
      "2\n",
      "3\n"
     ]
    }
   ],
   "source": [
    "# Example 4\n",
    "numbers = [1,2,3,4,5]\n",
    "for num in numbers:\n",
    "    if num > 3:\n",
    "        break\n",
    "    print(num)"
   ]
  },
  {
   "cell_type": "code",
   "execution_count": 43,
   "id": "36fd3794-e930-4e99-8238-fde2a7cd7ca4",
   "metadata": {},
   "outputs": [
    {
     "name": "stdout",
     "output_type": "stream",
     "text": [
      "1\n",
      "2\n",
      "3\n",
      "4\n",
      "5\n"
     ]
    }
   ],
   "source": [
    "\n",
    "# Example 5\n",
    "i = 1\n",
    "while True:\n",
    "    print(i)\n",
    "    if i == 5:\n",
    "        break\n",
    "    i += 1\n"
   ]
  },
  {
   "cell_type": "markdown",
   "id": "6f053134-d2c1-49ab-ab10-1343cf8aa9c2",
   "metadata": {},
   "source": [
    "#### b) continue\n",
    "  \n",
    "`continue` current iteration skip kar deta hai aur next iteration par chala jata hai.\n",
    "\n"
   ]
  },
  {
   "cell_type": "code",
   "execution_count": 45,
   "id": "b00c03d5-4713-4764-b242-2b5501aec95f",
   "metadata": {},
   "outputs": [
    {
     "name": "stdout",
     "output_type": "stream",
     "text": [
      "0\n",
      "1\n",
      "3\n",
      "4\n"
     ]
    }
   ],
   "source": [
    "# Example 1\n",
    "for i in range(5):\n",
    "    if i == 2:\n",
    "        continue\n",
    "    print(i)\n"
   ]
  },
  {
   "cell_type": "code",
   "execution_count": 46,
   "id": "10b1e6ba-55cc-462d-8ff4-9b08cff04f81",
   "metadata": {},
   "outputs": [
    {
     "name": "stdout",
     "output_type": "stream",
     "text": [
      "1\n",
      "2\n",
      "4\n",
      "5\n"
     ]
    }
   ],
   "source": [
    "# Example 2\n",
    "i = 0\n",
    "while i < 5:\n",
    "    i += 1\n",
    "    if i == 3:\n",
    "        continue\n",
    "    print(i)"
   ]
  },
  {
   "cell_type": "code",
   "execution_count": 47,
   "id": "e5874156-142e-4074-b76d-91c192635578",
   "metadata": {},
   "outputs": [
    {
     "name": "stdout",
     "output_type": "stream",
     "text": [
      "1\n",
      "3\n",
      "5\n"
     ]
    }
   ],
   "source": [
    "# Example 3\n",
    "numbers = [1,2,3,4,5]\n",
    "for num in numbers:\n",
    "    if num % 2 == 0:\n",
    "        continue\n",
    "    print(num)"
   ]
  },
  {
   "cell_type": "code",
   "execution_count": 48,
   "id": "dde4c7fb-9a30-40b9-9b7a-b45fe4b189b6",
   "metadata": {},
   "outputs": [
    {
     "name": "stdout",
     "output_type": "stream",
     "text": [
      "P\n",
      "y\n",
      "t\n",
      "h\n",
      "n\n"
     ]
    }
   ],
   "source": [
    "\n",
    "# Example 4\n",
    "for char in \"Python\":\n",
    "    if char in \"aeiou\":\n",
    "        continue\n",
    "    print(char)"
   ]
  },
  {
   "cell_type": "code",
   "execution_count": 49,
   "id": "c0e12d55-31d5-440a-819a-0f9a4112146b",
   "metadata": {},
   "outputs": [
    {
     "name": "stdout",
     "output_type": "stream",
     "text": [
      "Number: 1\n",
      "Number: 2\n",
      "Number: 3\n",
      "Number: 5\n"
     ]
    }
   ],
   "source": [
    "# Example 5\n",
    "for i in range(1, 6):\n",
    "    if i == 4:\n",
    "        continue\n",
    "    print(\"Number:\", i)\n"
   ]
  },
  {
   "cell_type": "markdown",
   "id": "de152ca3-c0e5-4e8e-b4de-b7e40b10aa28",
   "metadata": {},
   "source": [
    "#### c) pass\n",
    "`pass` koi action nahi karta, sirf placeholder ke liye use hota hai.  \n",
    "Ye tab useful hai jab **syntax required ho** lekin code abhi likha nahi gaya.\n"
   ]
  },
  {
   "cell_type": "code",
   "execution_count": 51,
   "id": "e794a820-85a3-4a4a-acea-02328d198003",
   "metadata": {},
   "outputs": [],
   "source": [
    "# Example 1\n",
    "for i in range(5):\n",
    "    pass\n"
   ]
  },
  {
   "cell_type": "code",
   "execution_count": 52,
   "id": "36fa417b-c432-40df-bc6e-8434ce324a71",
   "metadata": {},
   "outputs": [],
   "source": [
    "\n",
    "# Example 2\n",
    "if True:\n",
    "    pass\n"
   ]
  },
  {
   "cell_type": "code",
   "execution_count": 53,
   "id": "de5d318b-00f2-4bed-bcdd-d23030cb98b6",
   "metadata": {},
   "outputs": [],
   "source": [
    "# Example 3\n",
    "while False:\n",
    "    pass"
   ]
  },
  {
   "cell_type": "code",
   "execution_count": 54,
   "id": "20fc2faf-ca12-4bf1-8889-01603952418e",
   "metadata": {},
   "outputs": [],
   "source": [
    "# Example 4\n",
    "def my_function():\n",
    "    pass\n"
   ]
  },
  {
   "cell_type": "code",
   "execution_count": 55,
   "id": "28531353-d644-4d7f-8756-9f4922277a17",
   "metadata": {},
   "outputs": [],
   "source": [
    "# Example 5\n",
    "class MyClass:\n",
    "    pass\n"
   ]
  },
  {
   "cell_type": "markdown",
   "id": "e6f1f386-1aa7-491a-95bf-dfb9ed245902",
   "metadata": {},
   "source": [
    "\n",
    "### 4️⃣ Nested Control Structures\n",
    "\n",
    "Python me aap loops ke andar loops ya `if` ke andar `if` likh sakte hain.  \n",
    "Isse complex logic implement kiya ja sakta hai.\n"
   ]
  },
  {
   "cell_type": "code",
   "execution_count": 57,
   "id": "d0cdf849-6486-4415-90d4-37afa3684a5c",
   "metadata": {},
   "outputs": [
    {
     "name": "stdout",
     "output_type": "stream",
     "text": [
      "i = 0 j = 0\n",
      "i = 0 j = 1\n",
      "i = 1 j = 0\n",
      "i = 1 j = 1\n",
      "i = 2 j = 0\n",
      "i = 2 j = 1\n"
     ]
    }
   ],
   "source": [
    "# Example 1\n",
    "for i in range(3):\n",
    "    for j in range(2):\n",
    "        print(\"i =\", i, \"j =\", j)"
   ]
  },
  {
   "cell_type": "code",
   "execution_count": 58,
   "id": "576ec74a-24ce-4aa4-aad0-e5141635fa9f",
   "metadata": {},
   "outputs": [
    {
     "name": "stdout",
     "output_type": "stream",
     "text": [
      "Positive and odd\n"
     ]
    }
   ],
   "source": [
    "# Example 2\n",
    "x = 5\n",
    "if x > 0:\n",
    "    if x % 2 == 0:\n",
    "        print(\"Positive and even\")\n",
    "    else:\n",
    "        print(\"Positive and odd\")"
   ]
  },
  {
   "cell_type": "code",
   "execution_count": 59,
   "id": "fbfada71-c860-4a75-8b3e-aa1644ce4aa1",
   "metadata": {},
   "outputs": [
    {
     "name": "stdout",
     "output_type": "stream",
     "text": [
      "1 is odd\n",
      "2 is even\n",
      "3 is odd\n"
     ]
    }
   ],
   "source": [
    "# Example 3\n",
    "for i in range(1, 4):\n",
    "    if i % 2 == 0:\n",
    "        print(i, \"is even\")\n",
    "    else:\n",
    "        print(i, \"is odd\")\n"
   ]
  },
  {
   "cell_type": "code",
   "execution_count": 60,
   "id": "ab09548a-e8ea-46f9-9313-df79b69b7b03",
   "metadata": {},
   "outputs": [
    {
     "name": "stdout",
     "output_type": "stream",
     "text": [
      "i in while loop: 0\n",
      "i in while loop: 1\n"
     ]
    }
   ],
   "source": [
    "\n",
    "# Example 4\n",
    "for i in range(3):\n",
    "    while i < 2:\n",
    "        print(\"i in while loop:\", i)\n",
    "        break"
   ]
  },
  {
   "cell_type": "code",
   "execution_count": 61,
   "id": "f759effe-c7d9-46ae-afd0-b6fa53b974d9",
   "metadata": {},
   "outputs": [
    {
     "name": "stdout",
     "output_type": "stream",
     "text": [
      "num: 2 j: 0\n",
      "num: 2 j: 1\n",
      "num: 3 j: 0\n",
      "num: 3 j: 1\n",
      "num: 3 j: 2\n"
     ]
    }
   ],
   "source": [
    "# Example 5\n",
    "num_list = [1,2,3]\n",
    "for num in num_list:\n",
    "    if num > 1:\n",
    "        for j in range(num):\n",
    "            print(\"num:\", num, \"j:\", j)"
   ]
  },
  {
   "cell_type": "code",
   "execution_count": null,
   "id": "de0b21d7-fa7a-46b6-9cf0-e57e6fb49e62",
   "metadata": {},
   "outputs": [],
   "source": []
  },
  {
   "cell_type": "markdown",
   "id": "1d968e23-6b79-495e-86d6-3762fd113c43",
   "metadata": {},
   "source": [
    "# summary\n",
    "| Control Structure | Syntax / Example           | Use                          |\n",
    "| ----------------- | -------------------------- | ---------------------------- |\n",
    "| if                | `if condition:`            | Conditional branching        |\n",
    "| if-else           | `if ... else ...`          | Binary choice                |\n",
    "| if-elif-else      | `if ... elif ... else ...` | Multiple choices             |\n",
    "| for               | `for var in iterable:`     | Iteration over sequences     |\n",
    "| while             | `while condition:`         | Repeat until condition false |\n",
    "| break             | `break`                    | Exit loop immediately        |\n",
    "| continue          | `continue`                 | Skip current iteration       |\n",
    "| pass              | `pass`                     | Placeholder, do nothing      |\n"
   ]
  },
  {
   "cell_type": "code",
   "execution_count": null,
   "id": "2fdeb5c8-bd77-4418-926f-6cb9c3690f4a",
   "metadata": {},
   "outputs": [],
   "source": []
  },
  {
   "cell_type": "code",
   "execution_count": null,
   "id": "57ccdf2d-ab14-44b9-95c9-8c3a4db8bae3",
   "metadata": {},
   "outputs": [],
   "source": []
  },
  {
   "cell_type": "code",
   "execution_count": null,
   "id": "d6e6bcbb-0176-4cae-8335-ec26cc65229d",
   "metadata": {},
   "outputs": [],
   "source": []
  },
  {
   "cell_type": "code",
   "execution_count": null,
   "id": "7f3f32d1-dc38-4514-952d-5904a6d935cf",
   "metadata": {},
   "outputs": [],
   "source": []
  },
  {
   "cell_type": "code",
   "execution_count": null,
   "id": "65ddfd68-c875-48ec-a968-20c613d6582d",
   "metadata": {},
   "outputs": [],
   "source": []
  },
  {
   "cell_type": "code",
   "execution_count": null,
   "id": "b740bb96-3fcc-43b1-ad60-67f790f7bd4c",
   "metadata": {},
   "outputs": [],
   "source": []
  }
 ],
 "metadata": {
  "kernelspec": {
   "display_name": "Python 3 (ipykernel)",
   "language": "python",
   "name": "python3"
  },
  "language_info": {
   "codemirror_mode": {
    "name": "ipython",
    "version": 3
   },
   "file_extension": ".py",
   "mimetype": "text/x-python",
   "name": "python",
   "nbconvert_exporter": "python",
   "pygments_lexer": "ipython3",
   "version": "3.13.5"
  }
 },
 "nbformat": 4,
 "nbformat_minor": 5
}
